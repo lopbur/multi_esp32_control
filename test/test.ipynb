{
 "cells": [
  {
   "cell_type": "code",
   "execution_count": 1,
   "metadata": {},
   "outputs": [
    {
     "name": "stdout",
     "output_type": "stream",
     "text": [
      "0b1001 b'\\t'\n"
     ]
    }
   ],
   "source": [
    "led_on = 1\n",
    "led_index = 1\n",
    "\n",
    "command = (led_on << 3) | led_index\n",
    "print(bin(command), bytes([command]))"
   ]
  },
  {
   "cell_type": "code",
   "execution_count": 288,
   "metadata": {},
   "outputs": [],
   "source": [
    "ADDRESS_OFFSET = 4\n",
    "COMMAND_OFFSET = 2\n",
    "POSITION_OFFSET = 0\n",
    "\n",
    "CMD_BIND_ADDRESS = 0b11 << COMMAND_OFFSET\n",
    "CMD_LED_ON = 0b10 << COMMAND_OFFSET\n",
    "CMD_LED_OFF = 0b01 << COMMAND_OFFSET\n",
    "CMD_TOG_ON = 0b0010 << COMMAND_OFFSET\n",
    "CMD_TOG_OFF = 0b0001 << COMMAND_OFFSET"
   ]
  },
  {
   "cell_type": "code",
   "execution_count": 305,
   "metadata": {},
   "outputs": [],
   "source": [
    "import serial\n",
    "import time\n",
    "port = \"COM6\"\n",
    "s = serial.Serial(port, 9600, timeout=1)"
   ]
  },
  {
   "cell_type": "code",
   "execution_count": 306,
   "metadata": {},
   "outputs": [
    {
     "name": "stdout",
     "output_type": "stream",
     "text": [
      "b'\\x0c'\n"
     ]
    },
    {
     "data": {
      "text/plain": [
       "2"
      ]
     },
     "execution_count": 306,
     "metadata": {},
     "output_type": "execute_result"
    }
   ],
   "source": [
    "address_command = 0 << ADDRESS_OFFSET | CMD_BIND_ADDRESS\n",
    "print(bytes([address_command]))\n",
    "addrcmd = bytes([address_command])\n",
    "s.write(address_command.to_bytes(2, 'little'))"
   ]
  },
  {
   "cell_type": "code",
   "execution_count": 311,
   "metadata": {},
   "outputs": [
    {
     "data": {
      "text/plain": [
       "1"
      ]
     },
     "execution_count": 311,
     "metadata": {},
     "output_type": "execute_result"
    }
   ],
   "source": [
    "board_address = 0\n",
    "led_index = 1\n",
    "\n",
    "command = (board_address << ADDRESS_OFFSET) | CMD_LED_ON | led_index\n",
    "s.write(bytes([command]))"
   ]
  },
  {
   "cell_type": "code",
   "execution_count": 312,
   "metadata": {},
   "outputs": [],
   "source": [
    "s.close()"
   ]
  }
 ],
 "metadata": {
  "kernelspec": {
   "display_name": "p38tc",
   "language": "python",
   "name": "python3"
  },
  "language_info": {
   "codemirror_mode": {
    "name": "ipython",
    "version": 3
   },
   "file_extension": ".py",
   "mimetype": "text/x-python",
   "name": "python",
   "nbconvert_exporter": "python",
   "pygments_lexer": "ipython3",
   "version": "3.9.19"
  }
 },
 "nbformat": 4,
 "nbformat_minor": 2
}
